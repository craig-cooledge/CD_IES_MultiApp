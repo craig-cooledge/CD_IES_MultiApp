{
 "cells": [
  {
   "cell_type": "code",
   "execution_count": 1,
   "metadata": {},
   "outputs": [],
   "source": [
    "import os\n",
    "import numpy as np\n",
    "import pandas as pd\n",
    "import flopy\n",
    "import matplotlib\n",
    "import matplotlib.pyplot as plt"
   ]
  },
  {
   "cell_type": "code",
   "execution_count": 2,
   "metadata": {},
   "outputs": [],
   "source": [
    "########### User Input Variables ###############\n",
    "input_ws = 'ModelFiles'\n",
    "png_ws = '_PNGs'\n",
    "grbFile = 'CD_00.dis.grb'\n",
    "num_Layers = 37\n",
    "num_Nodes = 257224\n",
    "################################################"
   ]
  },
  {
   "cell_type": "code",
   "execution_count": 3,
   "metadata": {},
   "outputs": [],
   "source": [
    "#Establish model grid from binary grid file\n",
    "grbPath = os.path.join(input_ws, grbFile)\n",
    "grd = flopy.mf6.utils.binarygrid_util.MfGrdFile(grbPath, verbose=False)\n",
    "mg = grd.modelgrid"
   ]
  },
  {
   "cell_type": "code",
   "execution_count": 4,
   "metadata": {},
   "outputs": [
    {
     "data": {
      "text/plain": [
       "['kh_Avg', 'kh_Calibration', 'kh_StdDev']"
      ]
     },
     "execution_count": 4,
     "metadata": {},
     "output_type": "execute_result"
    }
   ],
   "source": [
    "#Create list of K array files\n",
    "k_arr_ws = os.path.join('.', 'KArrays')\n",
    "arr_list = [x[:-4] for x in os.listdir(k_arr_ws) if x[-4:]=='.dat']\n",
    "arr_list"
   ]
  },
  {
   "cell_type": "code",
   "execution_count": 5,
   "metadata": {},
   "outputs": [],
   "source": [
    "#Create a list of layer numbers based on the total number of layers\n",
    "layer_list = []\n",
    "l = 0\n",
    "while l < num_Layers:\n",
    "    layer_list.append(l+1)\n",
    "    l += 1"
   ]
  },
  {
   "cell_type": "code",
   "execution_count": 6,
   "metadata": {},
   "outputs": [
    {
     "name": "stdout",
     "output_type": "stream",
     "text": [
      "6952.0\n"
     ]
    },
    {
     "data": {
      "text/plain": [
       "[6952,\n",
       " 13904,\n",
       " 20856,\n",
       " 27808,\n",
       " 34760,\n",
       " 41712,\n",
       " 48664,\n",
       " 55616,\n",
       " 62568,\n",
       " 69520,\n",
       " 76472,\n",
       " 83424,\n",
       " 90376,\n",
       " 97328,\n",
       " 104280,\n",
       " 111232,\n",
       " 118184,\n",
       " 125136,\n",
       " 132088,\n",
       " 139040,\n",
       " 145992,\n",
       " 152944,\n",
       " 159896,\n",
       " 166848,\n",
       " 173800,\n",
       " 180752,\n",
       " 187704,\n",
       " 194656,\n",
       " 201608,\n",
       " 208560,\n",
       " 215512,\n",
       " 222464,\n",
       " 229416,\n",
       " 236368,\n",
       " 243320,\n",
       " 250272,\n",
       " 257224]"
      ]
     },
     "execution_count": 6,
     "metadata": {},
     "output_type": "execute_result"
    }
   ],
   "source": [
    "#Create list of last node in layer\n",
    "n = 0\n",
    "nodes_per_l = num_Nodes/num_Layers\n",
    "node_list = []\n",
    "count = 0\n",
    "while n < num_Nodes:\n",
    "    if count == nodes_per_l:\n",
    "        node_list.append(n)\n",
    "        count = 0\n",
    "    count += 1\n",
    "    n += 1\n",
    "node_list.append(num_Nodes)"
   ]
  },
  {
   "cell_type": "code",
   "execution_count": 7,
   "metadata": {},
   "outputs": [],
   "source": []
  },
  {
   "cell_type": "code",
   "execution_count": 8,
   "metadata": {},
   "outputs": [],
   "source": []
  },
  {
   "cell_type": "code",
   "execution_count": 9,
   "metadata": {
    "scrolled": true,
    "tags": []
   },
   "outputs": [
    {
     "name": "stderr",
     "output_type": "stream",
     "text": [
      "<ipython-input-9-2e93c16db325>:4: DeprecationWarning: `np.float` is a deprecated alias for the builtin `float`. To silence this warning, use `float` by itself. Doing this will not modify any behavior and is safe. If you specifically wanted the numpy scalar type, use `np.float64` here.\n",
      "Deprecated in NumPy 1.20; for more details and guidance: https://numpy.org/devdocs/release/1.20.0-notes.html#deprecations\n",
      "  vals_arr = np.array(vals).astype(np.float)\n"
     ]
    },
    {
     "ename": "IndexError",
     "evalue": "list index out of range",
     "output_type": "error",
     "traceback": [
      "\u001b[1;31m---------------------------------------------------------------------------\u001b[0m",
      "\u001b[1;31mIndexError\u001b[0m                                Traceback (most recent call last)",
      "\u001b[1;32m<ipython-input-9-2e93c16db325>\u001b[0m in \u001b[0;36m<module>\u001b[1;34m\u001b[0m\n\u001b[0;32m      4\u001b[0m     \u001b[0mvals_arr\u001b[0m \u001b[1;33m=\u001b[0m \u001b[0mnp\u001b[0m\u001b[1;33m.\u001b[0m\u001b[0marray\u001b[0m\u001b[1;33m(\u001b[0m\u001b[0mvals\u001b[0m\u001b[1;33m)\u001b[0m\u001b[1;33m.\u001b[0m\u001b[0mastype\u001b[0m\u001b[1;33m(\u001b[0m\u001b[0mnp\u001b[0m\u001b[1;33m.\u001b[0m\u001b[0mfloat\u001b[0m\u001b[1;33m)\u001b[0m\u001b[1;33m\u001b[0m\u001b[1;33m\u001b[0m\u001b[0m\n\u001b[0;32m      5\u001b[0m     \u001b[0mcurrParam\u001b[0m \u001b[1;33m=\u001b[0m \u001b[0mk\u001b[0m\u001b[1;33m.\u001b[0m\u001b[0msplit\u001b[0m\u001b[1;33m(\u001b[0m\u001b[1;34m'_'\u001b[0m\u001b[1;33m)\u001b[0m\u001b[1;33m[\u001b[0m\u001b[1;36m0\u001b[0m\u001b[1;33m]\u001b[0m\u001b[1;33m\u001b[0m\u001b[1;33m\u001b[0m\u001b[0m\n\u001b[1;32m----> 6\u001b[1;33m     \u001b[0mcurrRealiz\u001b[0m \u001b[1;33m=\u001b[0m \u001b[0mint\u001b[0m\u001b[1;33m(\u001b[0m\u001b[0mk\u001b[0m\u001b[1;33m.\u001b[0m\u001b[0msplit\u001b[0m\u001b[1;33m(\u001b[0m\u001b[1;34m'_'\u001b[0m\u001b[1;33m)\u001b[0m\u001b[1;33m[\u001b[0m\u001b[1;36m1\u001b[0m\u001b[1;33m]\u001b[0m\u001b[1;33m.\u001b[0m\u001b[0msplit\u001b[0m\u001b[1;33m(\u001b[0m\u001b[1;34m'Run'\u001b[0m\u001b[1;33m)\u001b[0m\u001b[1;33m[\u001b[0m\u001b[1;36m1\u001b[0m\u001b[1;33m]\u001b[0m\u001b[1;33m)\u001b[0m\u001b[1;33m\u001b[0m\u001b[1;33m\u001b[0m\u001b[0m\n\u001b[0m\u001b[0;32m      7\u001b[0m     \u001b[1;32mif\u001b[0m \u001b[0mcurrParam\u001b[0m \u001b[1;33m==\u001b[0m \u001b[1;34m'kh'\u001b[0m\u001b[1;33m:\u001b[0m\u001b[1;33m\u001b[0m\u001b[1;33m\u001b[0m\u001b[0m\n\u001b[0;32m      8\u001b[0m         \u001b[0mbounds\u001b[0m \u001b[1;33m=\u001b[0m \u001b[1;33m[\u001b[0m\u001b[1;36m1.0e-6\u001b[0m\u001b[1;33m,\u001b[0m \u001b[1;36m1.0e-5\u001b[0m\u001b[1;33m,\u001b[0m \u001b[1;36m5.0e-5\u001b[0m\u001b[1;33m,\u001b[0m \u001b[1;36m1.0e-4\u001b[0m\u001b[1;33m,\u001b[0m \u001b[1;36m5.0e-4\u001b[0m\u001b[1;33m,\u001b[0m \u001b[1;36m1.0e-3\u001b[0m\u001b[1;33m,\u001b[0m \u001b[1;36m5.0e-3\u001b[0m\u001b[1;33m,\u001b[0m \u001b[1;36m1.0e-2\u001b[0m\u001b[1;33m,\u001b[0m \u001b[1;36m5.0e-2\u001b[0m\u001b[1;33m,\u001b[0m \u001b[1;36m1.0e-1\u001b[0m\u001b[1;33m]\u001b[0m\u001b[1;33m\u001b[0m\u001b[1;33m\u001b[0m\u001b[0m\n",
      "\u001b[1;31mIndexError\u001b[0m: list index out of range"
     ]
    }
   ],
   "source": [
    "for k in arr_list:\n",
    "    file = open(os.path.join(k_arr_ws, k + '.dat'), 'r')\n",
    "    vals = file.readlines()\n",
    "    vals_arr = np.array(vals).astype(float)\n",
    "    currParam = k.split('_')[0]\n",
    "    currStat = k.split('_')[1]\n",
    "    print(currParam, currStat)\n",
    "    if currParam == 'kh':\n",
    "        bounds = [1.0e-6, 1.0e-5, 5.0e-5, 1.0e-4, 5.0e-4, 1.0e-3, 5.0e-3, 1.0e-2, 5.0e-2, 1.0e-1]\n",
    "        rgb = [[102,0,0],[204,0,0],[255,128,0],[255,255,102],[128,128,128],[102,255,102],[0,255,255],[0,0,255],[76,0,153]]\n",
    "        rgb=np.array(rgb)/255.0\n",
    "        cmap = matplotlib.colors.ListedColormap(rgb,\"\")\n",
    "        norm = matplotlib.colors.BoundaryNorm(bounds, 10)\n",
    "        frmt = '%.2E'\n",
    "        cbar_label = 'Kh (cm/s)'\n",
    "    elif currParam == 'kz':\n",
    "        bounds = [0.1, 1.0, 10.0, 100.0, 1000.0, 10000.0]\n",
    "        rgb = [[102,0,0],[255,128,0],[128,128,128],[0,0,255],[76,0,153]]\n",
    "        rgb=np.array(rgb)/255.0\n",
    "        cmap = matplotlib.colors.ListedColormap(rgb,\"\")\n",
    "        norm = matplotlib.colors.BoundaryNorm(bounds, 6)\n",
    "        frmt = '%.2f'\n",
    "        cbar_label = 'Kh:Kz'\n",
    "              \n",
    "    rgb=np.array(rgb)/255.0 \n",
    "    \n",
    "    prevNode = 0\n",
    "    layer = 1\n",
    "    for node in node_list:\n",
    "\n",
    "        if currStat == 'Calibration':\n",
    "            plt_title = '{0} Distribution from Calibration Run in Layer {1}'.format(currParam, layer)\n",
    "            pngName = os.path.join(png_ws, '{0}_L{1:0=3d}_Calibration'.format(currParam, layer) + '.png')\n",
    "        elif currStat == 'Avg':\n",
    "            plt_title = 'Average {0} Distribution of IES Realizations in Layer {1}'.format(currParam, layer)\n",
    "            pngName = os.path.join(png_ws, '{0}_L{1:0=3d}_IESAvg'.format(currParam, layer) + '.png')\n",
    "        elif currStat == 'StdDev':\n",
    "            plt_title = 'Standard Deviation of {0} Distribution of IES Realizations in Layer {1}'.format(currParam, layer)\n",
    "            pngName = os.path.join(png_ws, '{0}_L{1:0=3d}_IESStdDev'.format(currParam, layer) + '.png')\n",
    "        \n",
    "        currNode = node\n",
    "        plt_arr = vals_arr[prevNode:currNode]\n",
    "        fig = plt.figure(figsize=(10, 10), constrained_layout = True)\n",
    "        ax = fig.add_subplot(1, 1, 1, aspect='equal')\n",
    "        ax.set_title(plt_title)\n",
    "        mm = flopy.plot.PlotMapView(modelgrid=mg, ax=ax, layer = 0)\n",
    "        mm.plot_grid(edgecolor='black', linewidths = 0.05)\n",
    "        arr = mm.plot_array(a=plt_arr, cmap = cmap, norm = norm)\n",
    "        cbar = fig.colorbar(arr, shrink = 0.55, format = frmt)\n",
    "        cbar.set_label(cbar_label, rotation = 270, labelpad = 20)\n",
    "        \n",
    "        print('Saving {0}'.format(pngName))\n",
    "        plt.savefig(pngName, pad_inches = 0.01)\n",
    "        plt.close()\n",
    "        \n",
    "        layer += 1\n",
    "        prevNode = currNode"
   ]
  },
  {
   "cell_type": "code",
   "execution_count": null,
   "metadata": {},
   "outputs": [],
   "source": []
  },
  {
   "cell_type": "code",
   "execution_count": null,
   "metadata": {},
   "outputs": [],
   "source": []
  },
  {
   "cell_type": "code",
   "execution_count": null,
   "metadata": {},
   "outputs": [],
   "source": []
  },
  {
   "cell_type": "code",
   "execution_count": null,
   "metadata": {},
   "outputs": [],
   "source": []
  },
  {
   "cell_type": "code",
   "execution_count": null,
   "metadata": {},
   "outputs": [],
   "source": []
  },
  {
   "cell_type": "code",
   "execution_count": null,
   "metadata": {},
   "outputs": [],
   "source": []
  }
 ],
 "metadata": {
  "kernelspec": {
   "display_name": "Python 3",
   "language": "python",
   "name": "python3"
  },
  "language_info": {
   "codemirror_mode": {
    "name": "ipython",
    "version": 3
   },
   "file_extension": ".py",
   "mimetype": "text/x-python",
   "name": "python",
   "nbconvert_exporter": "python",
   "pygments_lexer": "ipython3",
   "version": "3.8.2"
  }
 },
 "nbformat": 4,
 "nbformat_minor": 4
}
